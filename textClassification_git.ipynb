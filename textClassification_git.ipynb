{
 "cells": [
  {
   "cell_type": "markdown",
   "metadata": {
    "id": "6g1FLHLArzDY"
   },
   "source": [
    "# Text Classification with Text-Embedding and Classification Models\n",
    "\n",
    "**Author Name:**  Dahye kim\n",
    "\n",
    "**Last Edited:** 25 Apr 2021"
   ]
  },
  {
   "cell_type": "code",
   "execution_count": 1,
   "metadata": {
    "colab": {
     "base_uri": "https://localhost:8080/"
    },
    "id": "VWF5KYAArzDg",
    "outputId": "0d14f90e-9f22-46ca-eaf1-dfc3e479b0eb"
   },
   "outputs": [
    {
     "name": "stdout",
     "output_type": "stream",
     "text": [
      "Drive already mounted at /content/drive; to attempt to forcibly remount, call drive.mount(\"/content/drive\", force_remount=True).\n"
     ]
    }
   ],
   "source": [
    "from google.colab import drive\n",
    "drive.mount('/content/drive') "
   ]
  },
  {
   "cell_type": "markdown",
   "metadata": {
    "id": "H4VdR4ET-l2G"
   },
   "source": [
    "### Table of Contents\n",
    "* [Part 1: Text Classification](#sec_1)  \n",
    "    * [1.1 Brief Inspection of the data set using `pandas`](#sec_1.1)\n",
    "    * [1.2 Text Classification with Statistical Modelling: Logistic Regression using `sklearn`](#sec_1.2)\n",
    "        * [1.2.1 Pre-Process Texts: Initialise 2 Configurations](#sec_1.2.1)\n",
    "        * [1.2.2 Pre-process All `Abstract` Features in Each Dataset](#sec_1.2.2)\n",
    "        * [1.2.3 Train and Test the Classification Model](#sec_1.2.3)\n",
    "    * [1.3 Text Classification with Recurrent Neural Network: Simple RNN using `pytorch`](#sec_1.3)  \n",
    "        * [1.3.1 Construct the RNN Class and Configure Relevant Functions](#sec_1.3.1)\n",
    "        * [1.3.2 Train and Test the RNN Model](#sec_1.3.2)\n",
    "    * [1.4 Results from Each Model and Graphical Presentation](#sec_1.4)"
   ]
  },
  {
   "cell_type": "markdown",
   "metadata": {
    "id": "oskDgRLwrzDh"
   },
   "source": [
    "# Part 1:  Text Classification<a class=\"anchor\" id=\"sec_1\"></a>"
   ]
  },
  {
   "cell_type": "markdown",
   "metadata": {
    "id": "3ScqobesrzDi"
   },
   "source": [
    "## 1.1 Brief Inspection of the data set using `pandas` <a class=\"anchor\" id=\"sec_1.1\"></a>"
   ]
  },
  {
   "cell_type": "code",
   "execution_count": 2,
   "metadata": {
    "id": "x_eF3s9srzDh"
   },
   "outputs": [],
   "source": [
    "from nltk.corpus import stopwords \n",
    "from nltk.tokenize import RegexpTokenizer\n",
    "from nltk.stem import SnowballStemmer\n",
    "from nltk.tokenize import WordPunctTokenizer\n",
    "from nltk.stem import WordNetLemmatizer\n",
    "# nltk tokenizers and lemmatisers for text pre-processing configuration\n",
    "\n",
    "from sklearn.feature_extraction.text import TfidfVectorizer \n",
    "from sklearn.metrics import * \n",
    "from sklearn.linear_model import LogisticRegression \n",
    "from sklearn.model_selection import cross_val_score \n",
    "from sklearn.metrics import precision_recall_curve\n",
    "# statistical modelling using sklearn \n",
    "# evaluatation metrics for classifiers from sklearn \n",
    "\n",
    "import pandas as pd \n",
    "import numpy as np"
   ]
  },
  {
   "cell_type": "code",
   "execution_count": 3,
   "metadata": {
    "colab": {
     "base_uri": "https://localhost:8080/"
    },
    "id": "r4M2wviewHrT",
    "outputId": "76e51fdd-bc04-467b-858a-d38e7ccc9374"
   },
   "outputs": [
    {
     "name": "stdout",
     "output_type": "stream",
     "text": [
      "[nltk_data] Downloading package wordnet to /root/nltk_data...\n",
      "[nltk_data]   Package wordnet is already up-to-date!\n",
      "[nltk_data] Downloading package punkt to /root/nltk_data...\n",
      "[nltk_data]   Package punkt is already up-to-date!\n",
      "[nltk_data] Downloading package stopwords to /root/nltk_data...\n",
      "[nltk_data]   Package stopwords is already up-to-date!\n"
     ]
    },
    {
     "data": {
      "text/plain": [
       "True"
      ]
     },
     "execution_count": 3,
     "metadata": {
      "tags": []
     },
     "output_type": "execute_result"
    }
   ],
   "source": [
    "import nltk\n",
    "nltk.download('wordnet')\n",
    "nltk.download('punkt')\n",
    "nltk.download('stopwords')"
   ]
  },
  {
   "cell_type": "code",
   "execution_count": 3,
   "metadata": {
    "id": "vUFOHE2ErzDi"
   },
   "outputs": [],
   "source": [
    "targets = ['InfoTheory','CompVis','Math']\n",
    "feature = ['Abstract']"
   ]
  },
  {
   "cell_type": "markdown",
   "metadata": {},
   "source": [
    "**Append train and test data to one single dataframe for a brief EDA**"
   ]
  },
  {
   "cell_type": "code",
   "execution_count": 5,
   "metadata": {
    "id": "9Fl1A6birzDi"
   },
   "outputs": [],
   "source": [
    "trainWhole = pd.read_csv('./axcs_train.csv')\n",
    "# reading in the entire data set \n",
    "test = pd.read_csv('./axcs_test.csv').loc[:, targets + feature]\n",
    "# reading in the test data set with only target and features \n",
    "train = trainWhole.loc[:, targets+feature]\n",
    "# select only the target and features attributes from the training set \n",
    "trainPartial = trainWhole.loc[:999,:]\n",
    "# first 1000 observations \n",
    "trainPartial = trainPartial.loc[:, targets + feature]\n",
    "# select only the features and target for the train set with first 1000 observations \n",
    "trainPartial.to_csv('./axcs_train_1000.csv', index = False)\n",
    "# export the data set with 1000 observations for RNN model in part 1.3\n",
    "datasets = [train, test, trainPartial]"
   ]
  },
  {
   "cell_type": "code",
   "execution_count": 6,
   "metadata": {
    "id": "h3Zrr2Cq-l2K"
   },
   "outputs": [],
   "source": [
    "dfs = []\n",
    "for df in datasets: \n",
    "    temp = pd.concat([pd.DataFrame(df[i].value_counts()).T for i in targets])\n",
    "    temp['Null Accuracy'] = temp[0]/(temp[0]+temp[1])\n",
    "    temp['Target'] = temp.index.tolist()\n",
    "    dfs.append(temp)"
   ]
  },
  {
   "cell_type": "markdown",
   "metadata": {},
   "source": [
    "**Inspecting Class Imbalance and Null Accuracy before building a Model**"
   ]
  },
  {
   "cell_type": "code",
   "execution_count": 7,
   "metadata": {
    "id": "U6tFoRVA-l2L"
   },
   "outputs": [],
   "source": [
    "trainWholeClass = dfs[0]\n",
    "trainPartialClass = dfs[2]\n",
    "testClass = dfs[1]"
   ]
  },
  {
   "cell_type": "code",
   "execution_count": 8,
   "metadata": {
    "colab": {
     "base_uri": "https://localhost:8080/",
     "height": 142
    },
    "id": "gSVFryLb-l2L",
    "outputId": "85ea61b4-54ee-4c87-d52a-30a5a35647f2"
   },
   "outputs": [
    {
     "data": {
      "text/html": [
       "<div>\n",
       "<style scoped>\n",
       "    .dataframe tbody tr th:only-of-type {\n",
       "        vertical-align: middle;\n",
       "    }\n",
       "\n",
       "    .dataframe tbody tr th {\n",
       "        vertical-align: top;\n",
       "    }\n",
       "\n",
       "    .dataframe thead th {\n",
       "        text-align: right;\n",
       "    }\n",
       "</style>\n",
       "<table border=\"1\" class=\"dataframe\">\n",
       "  <thead>\n",
       "    <tr style=\"text-align: right;\">\n",
       "      <th></th>\n",
       "      <th>0</th>\n",
       "      <th>1</th>\n",
       "      <th>Null Accuracy</th>\n",
       "      <th>Target</th>\n",
       "    </tr>\n",
       "  </thead>\n",
       "  <tbody>\n",
       "    <tr>\n",
       "      <th>InfoTheory</th>\n",
       "      <td>44193</td>\n",
       "      <td>10538</td>\n",
       "      <td>0.807458</td>\n",
       "      <td>InfoTheory</td>\n",
       "    </tr>\n",
       "    <tr>\n",
       "      <th>CompVis</th>\n",
       "      <td>52507</td>\n",
       "      <td>2224</td>\n",
       "      <td>0.959365</td>\n",
       "      <td>CompVis</td>\n",
       "    </tr>\n",
       "    <tr>\n",
       "      <th>Math</th>\n",
       "      <td>38004</td>\n",
       "      <td>16727</td>\n",
       "      <td>0.694378</td>\n",
       "      <td>Math</td>\n",
       "    </tr>\n",
       "  </tbody>\n",
       "</table>\n",
       "</div>"
      ],
      "text/plain": [
       "                0      1  Null Accuracy      Target\n",
       "InfoTheory  44193  10538       0.807458  InfoTheory\n",
       "CompVis     52507   2224       0.959365     CompVis\n",
       "Math        38004  16727       0.694378        Math"
      ]
     },
     "execution_count": 8,
     "metadata": {
      "tags": []
     },
     "output_type": "execute_result"
    }
   ],
   "source": [
    "trainWholeClass"
   ]
  },
  {
   "cell_type": "code",
   "execution_count": 9,
   "metadata": {
    "colab": {
     "base_uri": "https://localhost:8080/"
    },
    "id": "BXXEr4a86LhM",
    "outputId": "c41f5a25-8059-4000-efdd-d6d71df64805"
   },
   "outputs": [
    {
     "data": {
      "text/plain": [
       "InfoTheory  CompVis  Math\n",
       "0           0        0       35916\n",
       "1           0        1       10538\n",
       "0           0        1        6053\n",
       "            1        0        2088\n",
       "                     1         136\n",
       "dtype: int64"
      ]
     },
     "execution_count": 9,
     "metadata": {
      "tags": []
     },
     "output_type": "execute_result"
    }
   ],
   "source": [
    "trainWhole[targets].value_counts()"
   ]
  },
  {
   "cell_type": "code",
   "execution_count": 10,
   "metadata": {
    "colab": {
     "base_uri": "https://localhost:8080/",
     "height": 142
    },
    "id": "OJQ9wtDz-l2L",
    "outputId": "87050812-c434-436f-d0e0-dd9ce8b821fc"
   },
   "outputs": [
    {
     "data": {
      "text/html": [
       "<div>\n",
       "<style scoped>\n",
       "    .dataframe tbody tr th:only-of-type {\n",
       "        vertical-align: middle;\n",
       "    }\n",
       "\n",
       "    .dataframe tbody tr th {\n",
       "        vertical-align: top;\n",
       "    }\n",
       "\n",
       "    .dataframe thead th {\n",
       "        text-align: right;\n",
       "    }\n",
       "</style>\n",
       "<table border=\"1\" class=\"dataframe\">\n",
       "  <thead>\n",
       "    <tr style=\"text-align: right;\">\n",
       "      <th></th>\n",
       "      <th>0</th>\n",
       "      <th>1</th>\n",
       "      <th>Null Accuracy</th>\n",
       "      <th>Target</th>\n",
       "    </tr>\n",
       "  </thead>\n",
       "  <tbody>\n",
       "    <tr>\n",
       "      <th>InfoTheory</th>\n",
       "      <td>998</td>\n",
       "      <td>2</td>\n",
       "      <td>0.998</td>\n",
       "      <td>InfoTheory</td>\n",
       "    </tr>\n",
       "    <tr>\n",
       "      <th>CompVis</th>\n",
       "      <td>999</td>\n",
       "      <td>1</td>\n",
       "      <td>0.999</td>\n",
       "      <td>CompVis</td>\n",
       "    </tr>\n",
       "    <tr>\n",
       "      <th>Math</th>\n",
       "      <td>976</td>\n",
       "      <td>24</td>\n",
       "      <td>0.976</td>\n",
       "      <td>Math</td>\n",
       "    </tr>\n",
       "  </tbody>\n",
       "</table>\n",
       "</div>"
      ],
      "text/plain": [
       "              0   1  Null Accuracy      Target\n",
       "InfoTheory  998   2          0.998  InfoTheory\n",
       "CompVis     999   1          0.999     CompVis\n",
       "Math        976  24          0.976        Math"
      ]
     },
     "execution_count": 10,
     "metadata": {
      "tags": []
     },
     "output_type": "execute_result"
    }
   ],
   "source": [
    "trainPartialClass"
   ]
  },
  {
   "cell_type": "code",
   "execution_count": 11,
   "metadata": {
    "colab": {
     "base_uri": "https://localhost:8080/"
    },
    "id": "WyhowUuV6fMG",
    "outputId": "f3f450f1-6256-4ddd-b31c-406b9453b40d"
   },
   "outputs": [
    {
     "data": {
      "text/plain": [
       "InfoTheory  CompVis  Math\n",
       "0           0        0       975\n",
       "                     1        22\n",
       "1           0        1         2\n",
       "0           1        0         1\n",
       "dtype: int64"
      ]
     },
     "execution_count": 11,
     "metadata": {
      "tags": []
     },
     "output_type": "execute_result"
    }
   ],
   "source": [
    "trainPartial[targets].value_counts()"
   ]
  },
  {
   "cell_type": "code",
   "execution_count": 12,
   "metadata": {
    "colab": {
     "base_uri": "https://localhost:8080/",
     "height": 142
    },
    "id": "2FSZDKbirzDk",
    "outputId": "ec6a2ab6-a0a9-4305-c205-9599c03d2ed0"
   },
   "outputs": [
    {
     "data": {
      "text/html": [
       "<div>\n",
       "<style scoped>\n",
       "    .dataframe tbody tr th:only-of-type {\n",
       "        vertical-align: middle;\n",
       "    }\n",
       "\n",
       "    .dataframe tbody tr th {\n",
       "        vertical-align: top;\n",
       "    }\n",
       "\n",
       "    .dataframe thead th {\n",
       "        text-align: right;\n",
       "    }\n",
       "</style>\n",
       "<table border=\"1\" class=\"dataframe\">\n",
       "  <thead>\n",
       "    <tr style=\"text-align: right;\">\n",
       "      <th></th>\n",
       "      <th>0</th>\n",
       "      <th>1</th>\n",
       "      <th>Null Accuracy</th>\n",
       "      <th>Target</th>\n",
       "    </tr>\n",
       "  </thead>\n",
       "  <tbody>\n",
       "    <tr>\n",
       "      <th>InfoTheory</th>\n",
       "      <td>16062</td>\n",
       "      <td>3616</td>\n",
       "      <td>0.816241</td>\n",
       "      <td>InfoTheory</td>\n",
       "    </tr>\n",
       "    <tr>\n",
       "      <th>CompVis</th>\n",
       "      <td>17526</td>\n",
       "      <td>2152</td>\n",
       "      <td>0.890639</td>\n",
       "      <td>CompVis</td>\n",
       "    </tr>\n",
       "    <tr>\n",
       "      <th>Math</th>\n",
       "      <td>13748</td>\n",
       "      <td>5930</td>\n",
       "      <td>0.698648</td>\n",
       "      <td>Math</td>\n",
       "    </tr>\n",
       "  </tbody>\n",
       "</table>\n",
       "</div>"
      ],
      "text/plain": [
       "                0     1  Null Accuracy      Target\n",
       "InfoTheory  16062  3616       0.816241  InfoTheory\n",
       "CompVis     17526  2152       0.890639     CompVis\n",
       "Math        13748  5930       0.698648        Math"
      ]
     },
     "execution_count": 12,
     "metadata": {
      "tags": []
     },
     "output_type": "execute_result"
    }
   ],
   "source": [
    "testClass"
   ]
  },
  {
   "cell_type": "markdown",
   "metadata": {
    "id": "hX_EwB6v-l2M"
   },
   "source": [
    "Each target on the test set is also severely imbalanced. The attribute `Null Accuracy` refers to the proportion of class 0 of each target. The worst performance of a classifier can be demonstrated by an accuracy equal to the `Null Accuracy`. "
   ]
  },
  {
   "cell_type": "markdown",
   "metadata": {
    "id": "B3ekYRYn-l2N"
   },
   "source": [
    "## 1.2. Text Classification with Statistical Modelling: Logistic Regression using `sklearn`<a class=\"anchor\" id=\"sec_1.2\"></a>"
   ]
  },
  {
   "cell_type": "markdown",
   "metadata": {
    "id": "73sAvj5ZrzDm"
   },
   "source": [
    "### 1.2.1 Pre-Process Texts: Initialise 2 Configurations<a class=\"anchor\" id=\"sec_1.2.1\"></a>"
   ]
  },
  {
   "cell_type": "code",
   "execution_count": 13,
   "metadata": {
    "id": "MRzr9d22QStu"
   },
   "outputs": [],
   "source": [
    "stopword = set(stopwords.words('english'))\n",
    "# create stopwords list "
   ]
  },
  {
   "cell_type": "code",
   "execution_count": 14,
   "metadata": {
    "id": "XmoEl7cIrzDm"
   },
   "outputs": [],
   "source": [
    "# TextPreprocessing_1 \n",
    "class RegexSNBTokenizer(object): \n",
    "    def __init__(self): \n",
    "        self.snb = SnowballStemmer('english')\n",
    "        self.tokenizer = RegexpTokenizer(r\"[a-zA-Z]+(?:[-'][a-zA-Z]+)?\")\n",
    "        self.__name__ = 'Regex_SNB'\n",
    "        # initialise stemmer and tokenizer \n",
    "        # create .__name__ for latter use \n",
    "        \n",
    "    def __call__(self, doc): \n",
    "        \n",
    "        return [t.lower() for t in \\\n",
    "                [self.snb.stem(token) for token in self.tokenizer.tokenize(doc) \\\n",
    "                 if token not in stopword] \\\n",
    "                if len(t)>1\n",
    "                # tokenize each word first, and stem it using snowball stemmer \n",
    "                # then from the list of tokens, filter out stopwords, tokens with length less than 1\n",
    "                # change all the rest of the tokens into lower case \n",
    "               ]"
   ]
  },
  {
   "cell_type": "code",
   "execution_count": 15,
   "metadata": {
    "id": "kXO2TnIRrzDm"
   },
   "outputs": [],
   "source": [
    "vectorizerRegexSNBTokenizer = TfidfVectorizer(analyzer = 'word',\\\n",
    "                            input = 'content',\\\n",
    "                            ngram_range = (1,1),\\\n",
    "                            tokenizer = RegexSNBTokenizer())\n",
    "# tf-idf vectoriser for classification \n",
    "# use only unigrams "
   ]
  },
  {
   "cell_type": "code",
   "execution_count": 16,
   "metadata": {
    "id": "br43D8GRirJa"
   },
   "outputs": [],
   "source": [
    "class WordPunktLemmatizer(object): \n",
    "    def __init__(self): \n",
    "        self.wn = WordNetLemmatizer()\n",
    "        self.wp = WordPunctTokenizer()\n",
    "        self.__name__ = 'WordPunct_WordNet'\n",
    "        # initliase lemmatizer and tokenizer\n",
    "    def __call__(self, doc): \n",
    "        return [t.lower() for t in \\\n",
    "                [self.wn.lemmatize(token) for token in self.wp.tokenize(doc) \\\n",
    "                 if token not in stopword]]\n",
    "        # tokenize each word and lemmatize them \n",
    "        # filter out stopwords and change to lower case "
   ]
  },
  {
   "cell_type": "code",
   "execution_count": 17,
   "metadata": {
    "id": "4H-uHv4rjq4Y"
   },
   "outputs": [],
   "source": [
    "vectorizerWordPunktLemmatizer = TfidfVectorizer(analyzer = 'word',\\\n",
    "                            input = 'content',\\\n",
    "                            ngram_range = (1,2),\\\n",
    "                            tokenizer = WordPunktLemmatizer())\n",
    "# tf-idf vectoriser for classification\n",
    "# use both bigrams and unigrams "
   ]
  },
  {
   "cell_type": "markdown",
   "metadata": {
    "id": "Z9OQrwHhrzDn"
   },
   "source": [
    "### 1.2.2. Pre-process All `Abstract` Features in Each Dataset<a class=\"anchor\" id=\"sec_1.2.2\"></a>"
   ]
  },
  {
   "cell_type": "code",
   "execution_count": 18,
   "metadata": {
    "id": "jsoHLAogrzDn"
   },
   "outputs": [],
   "source": [
    "textPreProcessing = [vectorizerRegexSNBTokenizer, vectorizerWordPunktLemmatizer]\n",
    "# put all the tf-idf vectorizers into a list for looping \n",
    "trainSet = [train, trainPartial]\n",
    "# put all the training data into a list for looping \n",
    "testDocs = test['Abstract'].tolist()\n",
    "# put all the texts of test data into a list for pre-processing "
   ]
  },
  {
   "cell_type": "code",
   "execution_count": 19,
   "metadata": {
    "id": "JD8bGgVjRY9E"
   },
   "outputs": [],
   "source": [
    "trainFeatures = dict()\n",
    "# the dictionary holds converted texts of both train sets and the test dataset \n",
    "\n",
    "for train in trainSet: \n",
    "# loop through each training dataset \n",
    "    \n",
    "    trainDoc = train['Abstract'].tolist()\n",
    "    # convert the pandas series object into a list for conversion \n",
    "\n",
    "    if len(trainDoc) == 1000: size = 'Partial'\n",
    "    else: size = 'Whole'\n",
    "    # differentiate train data sets based on the size of the data aset \n",
    "        \n",
    "    for eachPreProcessing in textPreProcessing: \n",
    "        trainFeatures[f'{size} - {eachPreProcessing.tokenizer.__name__}'] = \\\n",
    "        [eachPreProcessing.fit_transform(trainDoc),\\\n",
    "         eachPreProcessing.transform(testDocs)]\n",
    "        # fit and transform the training data with tf-idf vectoriser \n",
    "        # transform the test data with the trained tf-idf vectoriser \n",
    "        # store them both into a list in order to fit them into the classifer "
   ]
  },
  {
   "cell_type": "code",
   "execution_count": 20,
   "metadata": {
    "colab": {
     "base_uri": "https://localhost:8080/"
    },
    "id": "Og_9KE1xlUUk",
    "outputId": "f3651cd5-51c6-4288-c1f3-39ec31d9270d"
   },
   "outputs": [
    {
     "data": {
      "text/plain": [
       "dict_keys(['Whole - Regex_SNB', 'Whole - WordPunct_WordNet', 'Partial - Regex_SNB', 'Partial - WordPunct_WordNet'])"
      ]
     },
     "execution_count": 20,
     "metadata": {
      "tags": []
     },
     "output_type": "execute_result"
    }
   ],
   "source": [
    "trainFeatures.keys()\n",
    "# each train-test tf-idf vectors are stored into the dictionary with \n",
    "# respective keys "
   ]
  },
  {
   "cell_type": "markdown",
   "metadata": {
    "id": "Wdbl1Ut0-l2Q"
   },
   "source": [
    "### 1.2.3. Train and Test the Classification Model<a class=\"anchor\" id=\"sec_1.2.3\"></a>"
   ]
  },
  {
   "cell_type": "code",
   "execution_count": 21,
   "metadata": {
    "id": "2TM7N-UwrzDo"
   },
   "outputs": [],
   "source": [
    "lr = LogisticRegression(solver='lbfgs', max_iter=1000)\n",
    "# initialise logistic regression model "
   ]
  },
  {
   "cell_type": "code",
   "execution_count": 22,
   "metadata": {
    "id": "EYl2hTrErzDo"
   },
   "outputs": [],
   "source": [
    "metrics_lr = pd.DataFrame(columns = ['Config','Target','Model',\\\n",
    "                                  'Accuracy','Precision','Recall','F-1'],\\\n",
    "                       index=[*range(3*2*2)])\n",
    "# there are 12 logistic regression models in total \n",
    "# the evaluation metrics of each model will be stored in a data frame \n",
    "precisionRecall_lr = dict() \n",
    "# precisino-recall curve object of each model is stored into a dictionary "
   ]
  },
  {
   "cell_type": "code",
   "execution_count": 23,
   "metadata": {
    "colab": {
     "base_uri": "https://localhost:8080/"
    },
    "id": "CbZoIje6XZcH",
    "outputId": "6bc3c898-0e64-44e1-bc76-9f28049eff9b"
   },
   "outputs": [
    {
     "name": "stderr",
     "output_type": "stream",
     "text": [
      "/usr/local/lib/python3.7/dist-packages/sklearn/metrics/_classification.py:1272: UndefinedMetricWarning: Precision is ill-defined and being set to 0.0 in labels with no predicted samples. Use `zero_division` parameter to control this behavior.\n",
      "  _warn_prf(average, modifier, msg_start, len(result))\n",
      "/usr/local/lib/python3.7/dist-packages/sklearn/metrics/_classification.py:1272: UndefinedMetricWarning: Precision is ill-defined and being set to 0.0 in labels with no predicted samples. Use `zero_division` parameter to control this behavior.\n",
      "  _warn_prf(average, modifier, msg_start, len(result))\n",
      "/usr/local/lib/python3.7/dist-packages/sklearn/metrics/_classification.py:1272: UndefinedMetricWarning: Precision is ill-defined and being set to 0.0 in labels with no predicted samples. Use `zero_division` parameter to control this behavior.\n",
      "  _warn_prf(average, modifier, msg_start, len(result))\n",
      "/usr/local/lib/python3.7/dist-packages/sklearn/metrics/_classification.py:1272: UndefinedMetricWarning: Precision is ill-defined and being set to 0.0 in labels with no predicted samples. Use `zero_division` parameter to control this behavior.\n",
      "  _warn_prf(average, modifier, msg_start, len(result))\n",
      "/usr/local/lib/python3.7/dist-packages/sklearn/metrics/_classification.py:1272: UndefinedMetricWarning: Precision is ill-defined and being set to 0.0 in labels with no predicted samples. Use `zero_division` parameter to control this behavior.\n",
      "  _warn_prf(average, modifier, msg_start, len(result))\n",
      "/usr/local/lib/python3.7/dist-packages/sklearn/metrics/_classification.py:1272: UndefinedMetricWarning: Precision is ill-defined and being set to 0.0 in labels with no predicted samples. Use `zero_division` parameter to control this behavior.\n",
      "  _warn_prf(average, modifier, msg_start, len(result))\n"
     ]
    }
   ],
   "source": [
    "n = 0\n",
    "# index of each model for metrics_lr data frame \n",
    "\n",
    "for key in trainFeatures.keys(): \n",
    "# loop through each predictor in the dictionary \n",
    "\n",
    "    xTrain = trainFeatures[key][0]\n",
    "    # training predictor to fit into the model \n",
    "    xTest = trainFeatures[key][1]\n",
    "    # test predictor for prediction\n",
    "\n",
    "    for targetName in targets: \n",
    "    # loop through each target (topic)\n",
    "        if key.startswith('Whole'):\n",
    "        # the keys of entire training data set starts with 'Whole'\n",
    "            target = np.asarray(trainSet[0][targetName])\n",
    "            # the target from  the entire dataset \n",
    "            \n",
    "        else: target = np.asarray(trainSet[1][targetName])\n",
    "        # if the key does not start with 'Whole', then the data size is 1000 \n",
    "        # the target is the class from the first 1000 observations \n",
    "\n",
    "        lr.fit(xTrain, target)\n",
    "        # fit the predictor and target into the logistic regression model \n",
    "        predictLabel = lr.predict(xTest)\n",
    "        # predict the target using the test set \n",
    "        testLabel = np.asarray(test[targetName])\n",
    "        # convert the true values to numpy array for calculating evaluation metrics \n",
    "\n",
    "        metrics_lr.iloc[n,:] = [key,targetName,\\\n",
    "                                'LogisticRegression',\\\n",
    "                                accuracy_score(testLabel, predictLabel),\\\n",
    "                                precision_score(testLabel, predictLabel, average = 'macro'),\\\n",
    "                                recall_score(testLabel, predictLabel, average = 'macro'),\\\n",
    "                                f1_score(testLabel, predictLabel, average = 'macro')]\n",
    "        # the metric_lr data frame stores th accuracy, precision, recall, and f1 score of the classifier \n",
    "        # these are calculated using the predicted and the truth values \n",
    "        # the name of the topic(target) is also saved for the data frame \n",
    "            \n",
    "        precisionRecall_lr[n] = [precision_recall_curve(testLabel, predictLabel)]\n",
    "        # precision-recall curve of the model is stored into a dictionary \n",
    "        # the key is the respective row index in metrics_lr \n",
    "            \n",
    "        n+=1\n",
    "        # increment the row index of metrics_lr by 1 "
   ]
  },
  {
   "cell_type": "markdown",
   "metadata": {
    "id": "9mN-uUIzrzDp"
   },
   "source": [
    "## 1.3 Text Classification with Recurrent Neural Network: Simple RNN using `pytorch`<a class=\"anchor\" id=\"sec_1.3\"></a>\n",
    "\n",
    "Before developing and training an RNN model, I need to first define the RNN class and create some functions for training, validating, and testing.\n",
    "For `pytorch`, `DataField` needs to be defined when reading in training and testing data sets. The `DataField` is similar to data schema for databases, where the data structure and function of each attribute in a model (e.g. feature or target) will be specified. "
   ]
  },
  {
   "cell_type": "code",
   "execution_count": null,
   "metadata": {
    "id": "-zAd8P2frzDp"
   },
   "outputs": [],
   "source": [
    "import torch\n",
    "from torchtext.legacy import data\n",
    "from torchtext.legacy.data import TabularDataset\n",
    "import torch.optim as optim\n",
    "import torch.nn as nn"
   ]
  },
  {
   "cell_type": "markdown",
   "metadata": {
    "id": "Idv1CUFc-l2S"
   },
   "source": [
    "### 1.3.1 Construct the RNN Class and Configure Relevant Functions<a class=\"anchor\" id=\"sec_1.3.1\"></a>"
   ]
  },
  {
   "cell_type": "code",
   "execution_count": 25,
   "metadata": {
    "id": "MpzDnV0irzDq"
   },
   "outputs": [],
   "source": [
    "# Define Rnn class for simple RNN model \n",
    "class Rnn(nn.Module): \n",
    "    def __init__(self, inputDimension, embeddingDimension, hiddenDimension, outputDimension): \n",
    "        super().__init__()\n",
    "        # inherit all the traits from nn.Module\n",
    "        self.embedding = nn.Embedding(inputDimension, embeddingDimension)\n",
    "        # text embedding layer\n",
    "        self.rnn = nn.RNN(embeddingDimension, hiddenDimension)\n",
    "        # rnn model with 1 hidden dimension \n",
    "        self.fc = nn.Linear(hiddenDimension, outputDimension)\n",
    "        \n",
    "    def forward(self, text): \n",
    "        embedded = self.embedding(text)\n",
    "        output, hidden = self.rnn(embedded)\n",
    "        # output is the list of all the hidden layers \n",
    "        # hidden is the last hidden stage of the model \n",
    "        \n",
    "        assert torch.equal(output[-1, :, :], hidden.squeeze(0))\n",
    "        return self.fc(hidden.squeeze(0))"
   ]
  },
  {
   "cell_type": "code",
   "execution_count": 26,
   "metadata": {
    "id": "27Wmawd7rzDq"
   },
   "outputs": [],
   "source": [
    "def binaryAccuracy(preds, y): \n",
    "# The function for calculating the accuracy of each batch of train set \n",
    "    roundedPrediction = torch.round(torch.sigmoid(preds))\n",
    "    correct = (roundedPrediction == y).float()\n",
    "    accuracy = correct.sum()/len(correct)\n",
    "    return accuracy"
   ]
  },
  {
   "cell_type": "code",
   "execution_count": 27,
   "metadata": {
    "id": "BDMPTXf_rzDr"
   },
   "outputs": [],
   "source": [
    "def training(model, iterator, optimizer, criterion): \n",
    "# training function for RNN model \n",
    "    \n",
    "    epochLoss = 0 \n",
    "    epochAccuracy = 0 \n",
    "    # calculate the loss and accuracy of each epoch \n",
    "    \n",
    "    model.train() \n",
    "    # set torch into training mode \n",
    "    \n",
    "    for batch in iterator: \n",
    "    # loop through each batch of the iterator input \n",
    "        optimizer.zero_grad()\n",
    "        # set the gradient to 0 \n",
    "        predictions = model(batch.Abstract).squeeze(1) \n",
    "        # predict using the model, forward prop\n",
    "        loss = criterion(predictions, batch.label)\n",
    "        # calculate the loss of each batch with specified criterion \n",
    "        accuracy = binaryAccuracy(predictions, batch.label)\n",
    "        # calculate the accuracy of each batch \n",
    "        \n",
    "        loss.backward()\n",
    "        optimizer.step() \n",
    "        # backward prop\n",
    "        \n",
    "        epochLoss += loss.item()\n",
    "        epochAccuracy += accuracy.item()\n",
    "        # loss and accuracy of each batch accumulated \n",
    "        \n",
    "    return epochLoss/len(iterator), epochAccuracy/len(iterator)\n",
    "    # return training loss and accuracies "
   ]
  },
  {
   "cell_type": "code",
   "execution_count": 28,
   "metadata": {
    "id": "zIQu7qyQrzDr"
   },
   "outputs": [],
   "source": [
    "def evaluate(model, iterator, criterion): \n",
    "    \n",
    "    epochLoss = 0 \n",
    "    epochAccuracy = 0 \n",
    "    # loss and accuracy of each epoch \n",
    "\n",
    "    model.eval()\n",
    "    # setting torch to evaluation mode \n",
    "    # only forward propagation needed \n",
    "    \n",
    "    with torch.no_grad(): \n",
    "    # no paramter optimisation (backward propagation) needed \n",
    "        for batch in iterator: \n",
    "            # loop through each batch in the iterator \n",
    "            predictions = model(batch.Abstract).squeeze(1)\n",
    "            loss = criterion(predictions, batch.label)\n",
    "            accuracy = binaryAccuracy(predictions, batch.label)\n",
    "            # calculate the loss and accuracy of each batch \n",
    "\n",
    "            epochLoss += loss.item()\n",
    "            epochAccuracy += accuracy.item()\n",
    "            # validation accuracy and loss accummulated \n",
    "            \n",
    "    return epochLoss/len(iterator), epochAccuracy/len(iterator)\n",
    "    # return validation loss and accuracy "
   ]
  },
  {
   "cell_type": "code",
   "execution_count": 29,
   "metadata": {
    "id": "fLqbnNoJgZ0_"
   },
   "outputs": [],
   "source": [
    "def predict(model, iterator, criterion): \n",
    "\n",
    "    yTest = []\n",
    "    yPredict = []\n",
    "    # store the predicted labels and truth values \n",
    "    \n",
    "    model.eval()\n",
    "    # set torch to evaluation mode \n",
    "    \n",
    "    with torch.no_grad(): \n",
    "        for batch in iterator: \n",
    "            predictions = model(batch.Abstract).squeeze(1)\n",
    "            rounded_preds = torch.round(torch.sigmoid(predictions))\n",
    "            yPredict += rounded_preds.tolist()\n",
    "            yTest += batch.label.tolist()\n",
    "            # predict the label using the model and add them into yPredict list \n",
    "            # truth label is also stored in the yTest list \n",
    "            \n",
    "    return np.asarray(yTest), np.asarray(yPredict)\n",
    "    # return the truth and predict labels, both as numpy arrays for metric calculations"
   ]
  },
  {
   "cell_type": "markdown",
   "metadata": {
    "id": "fIUSP9Jt-l2U"
   },
   "source": [
    "### 1.3.2. Train and Test the RNN Model<a class=\"anchor\" id=\"sec_1.3.2\"></a>"
   ]
  },
  {
   "cell_type": "code",
   "execution_count": 30,
   "metadata": {
    "id": "C2yInLsXrzDq"
   },
   "outputs": [],
   "source": [
    "LABEL = data.LabelField(dtype = torch.float, \\\n",
    "                        use_vocab=False, \\\n",
    "                        preprocessing=int)\n",
    "# the target variable Field specification \n",
    "# the target is a binary integer, and the data type is in torch "
   ]
  },
  {
   "cell_type": "code",
   "execution_count": 31,
   "metadata": {
    "id": "v8CNT04JimZf"
   },
   "outputs": [],
   "source": [
    "metrics_rnn = pd.DataFrame(columns = ['Config','Target','Model',\\\n",
    "                                  'Accuracy','Precision','Recall','F-1'],\\\n",
    "                       index=[*range(3*2*2)])\n",
    "# evaluation metrics data frame will be filled from each model after training "
   ]
  },
  {
   "cell_type": "code",
   "execution_count": 32,
   "metadata": {
    "id": "zEiPfnJGrzDq"
   },
   "outputs": [],
   "source": [
    "tokenizers = [RegexSNBTokenizer(), WordPunktLemmatizer()]\n",
    "# put tokenizers into a list for looping through \n",
    "precisionRecall_rnn = dict() \n",
    "# store the precision-recall curve object to a dictionary "
   ]
  },
  {
   "cell_type": "code",
   "execution_count": 33,
   "metadata": {
    "colab": {
     "base_uri": "https://localhost:8080/"
    },
    "id": "xA49XaO8rzDr",
    "outputId": "768258cc-1929-4ba9-c3ba-b090309cda98"
   },
   "outputs": [
    {
     "name": "stdout",
     "output_type": "stream",
     "text": [
      "\n",
      "Text Pre-Processing Configuration: Regex_SNB\n",
      "Data Size: 54731\n",
      "Target: InfoTheory\n",
      "------------------------------------------------\n",
      "Epoch 0:\n",
      "\tTrain Loss: 0.505 | Train Acc: 79.25%\n",
      "\t Val. Loss: 0.638 |  Val. Acc: 61.12%\n",
      "------------------------------------------------\n",
      "Epoch 1:\n",
      "\tTrain Loss: 0.495 | Train Acc: 80.21%\n",
      "\t Val. Loss: 0.636 |  Val. Acc: 61.81%\n",
      "------------------------------------------------\n",
      "Epoch 2:\n",
      "\tTrain Loss: 0.494 | Train Acc: 80.20%\n",
      "\t Val. Loss: 0.634 |  Val. Acc: 62.60%\n",
      "------------------------------------------------\n",
      "Epoch 3:\n",
      "\tTrain Loss: 0.495 | Train Acc: 80.21%\n",
      "\t Val. Loss: 0.632 |  Val. Acc: 63.18%\n",
      "------------------------------------------------\n",
      "Epoch 4:\n",
      "\tTrain Loss: 0.495 | Train Acc: 80.21%\n",
      "\t Val. Loss: 0.631 |  Val. Acc: 63.58%\n",
      "\n",
      "Text Pre-Processing Configuration: Regex_SNB\n",
      "Data Size: 1000\n",
      "Target: InfoTheory\n",
      "------------------------------------------------\n",
      "Epoch 0:\n",
      "\tTrain Loss: 0.377 | Train Acc: 96.73%\n",
      "\t Val. Loss: 0.303 |  Val. Acc: 94.63%\n",
      "------------------------------------------------\n",
      "Epoch 1:\n",
      "\tTrain Loss: 0.206 | Train Acc: 97.87%\n",
      "\t Val. Loss: 0.217 |  Val. Acc: 95.29%\n",
      "------------------------------------------------\n",
      "Epoch 2:\n",
      "\tTrain Loss: 0.151 | Train Acc: 97.30%\n",
      "\t Val. Loss: 0.178 |  Val. Acc: 95.29%\n",
      "------------------------------------------------\n",
      "Epoch 3:\n",
      "\tTrain Loss: 0.125 | Train Acc: 97.30%\n",
      "\t Val. Loss: 0.156 |  Val. Acc: 95.29%\n",
      "------------------------------------------------\n",
      "Epoch 4:\n",
      "\tTrain Loss: 0.108 | Train Acc: 97.02%\n",
      "\t Val. Loss: 0.141 |  Val. Acc: 95.29%\n",
      "\n",
      "Text Pre-Processing Configuration: Regex_SNB\n",
      "Data Size: 54731\n",
      "Target: CompVis\n",
      "------------------------------------------------\n",
      "Epoch 0:\n",
      "\tTrain Loss: 0.204 | Train Acc: 95.26%\n",
      "\t Val. Loss: 0.506 |  Val. Acc: 76.31%\n",
      "------------------------------------------------\n",
      "Epoch 1:\n",
      "\tTrain Loss: 0.175 | Train Acc: 95.58%\n",
      "\t Val. Loss: 0.502 |  Val. Acc: 77.20%\n",
      "------------------------------------------------\n",
      "Epoch 2:\n",
      "\tTrain Loss: 0.175 | Train Acc: 95.61%\n",
      "\t Val. Loss: 0.498 |  Val. Acc: 78.07%\n",
      "------------------------------------------------\n",
      "Epoch 3:\n",
      "\tTrain Loss: 0.175 | Train Acc: 95.60%\n",
      "\t Val. Loss: 0.494 |  Val. Acc: 78.82%\n",
      "------------------------------------------------\n",
      "Epoch 4:\n",
      "\tTrain Loss: 0.175 | Train Acc: 95.65%\n",
      "\t Val. Loss: 0.490 |  Val. Acc: 79.56%\n",
      "\n",
      "Text Pre-Processing Configuration: Regex_SNB\n",
      "Data Size: 1000\n",
      "Target: CompVis\n",
      "------------------------------------------------\n",
      "Epoch 0:\n",
      "\tTrain Loss: 0.426 | Train Acc: 97.02%\n",
      "\t Val. Loss: 0.330 |  Val. Acc: 94.41%\n",
      "------------------------------------------------\n",
      "Epoch 1:\n",
      "\tTrain Loss: 0.210 | Train Acc: 97.02%\n",
      "\t Val. Loss: 0.233 |  Val. Acc: 94.74%\n",
      "------------------------------------------------\n",
      "Epoch 2:\n",
      "\tTrain Loss: 0.146 | Train Acc: 97.73%\n",
      "\t Val. Loss: 0.191 |  Val. Acc: 94.74%\n",
      "------------------------------------------------\n",
      "Epoch 3:\n",
      "\tTrain Loss: 0.116 | Train Acc: 97.44%\n",
      "\t Val. Loss: 0.168 |  Val. Acc: 94.74%\n",
      "------------------------------------------------\n",
      "Epoch 4:\n",
      "\tTrain Loss: 0.097 | Train Acc: 97.82%\n",
      "\t Val. Loss: 0.153 |  Val. Acc: 94.74%\n",
      "\n",
      "Text Pre-Processing Configuration: Regex_SNB\n",
      "Data Size: 54731\n",
      "Target: Math\n",
      "------------------------------------------------\n",
      "Epoch 0:\n",
      "\tTrain Loss: 0.621 | Train Acc: 68.69%\n",
      "\t Val. Loss: 0.670 |  Val. Acc: 57.56%\n",
      "------------------------------------------------\n",
      "Epoch 1:\n",
      "\tTrain Loss: 0.618 | Train Acc: 69.03%\n",
      "\t Val. Loss: 0.669 |  Val. Acc: 58.10%\n",
      "------------------------------------------------\n",
      "Epoch 2:\n",
      "\tTrain Loss: 0.618 | Train Acc: 69.05%\n",
      "\t Val. Loss: 0.668 |  Val. Acc: 58.49%\n",
      "------------------------------------------------\n",
      "Epoch 3:\n",
      "\tTrain Loss: 0.618 | Train Acc: 69.05%\n",
      "\t Val. Loss: 0.667 |  Val. Acc: 58.82%\n",
      "------------------------------------------------\n",
      "Epoch 4:\n",
      "\tTrain Loss: 0.618 | Train Acc: 69.07%\n",
      "\t Val. Loss: 0.666 |  Val. Acc: 59.17%\n",
      "\n",
      "Text Pre-Processing Configuration: Regex_SNB\n",
      "Data Size: 1000\n",
      "Target: Math\n",
      "------------------------------------------------\n",
      "Epoch 0:\n",
      "\tTrain Loss: 0.502 | Train Acc: 85.75%\n",
      "\t Val. Loss: 0.385 |  Val. Acc: 90.68%\n",
      "------------------------------------------------\n",
      "Epoch 1:\n",
      "\tTrain Loss: 0.285 | Train Acc: 92.71%\n",
      "\t Val. Loss: 0.288 |  Val. Acc: 91.01%\n",
      "------------------------------------------------\n",
      "Epoch 2:\n",
      "\tTrain Loss: 0.223 | Train Acc: 92.71%\n",
      "\t Val. Loss: 0.247 |  Val. Acc: 91.01%\n",
      "------------------------------------------------\n",
      "Epoch 3:\n",
      "\tTrain Loss: 0.201 | Train Acc: 92.90%\n",
      "\t Val. Loss: 0.226 |  Val. Acc: 91.34%\n",
      "------------------------------------------------\n",
      "Epoch 4:\n",
      "\tTrain Loss: 0.180 | Train Acc: 93.23%\n",
      "\t Val. Loss: 0.213 |  Val. Acc: 91.78%\n",
      "\n",
      "Text Pre-Processing Configuration: WordPunct_WordNet\n",
      "Data Size: 54731\n",
      "Target: InfoTheory\n",
      "------------------------------------------------\n",
      "Epoch 0:\n",
      "\tTrain Loss: 0.502 | Train Acc: 79.78%\n",
      "\t Val. Loss: 0.602 |  Val. Acc: 76.18%\n",
      "------------------------------------------------\n",
      "Epoch 1:\n",
      "\tTrain Loss: 0.493 | Train Acc: 80.54%\n",
      "\t Val. Loss: 0.579 |  Val. Acc: 80.06%\n",
      "------------------------------------------------\n",
      "Epoch 2:\n",
      "\tTrain Loss: 0.493 | Train Acc: 80.58%\n",
      "\t Val. Loss: 0.564 |  Val. Acc: 80.37%\n",
      "------------------------------------------------\n",
      "Epoch 3:\n",
      "\tTrain Loss: 0.493 | Train Acc: 80.58%\n",
      "\t Val. Loss: 0.553 |  Val. Acc: 80.42%\n",
      "------------------------------------------------\n",
      "Epoch 4:\n",
      "\tTrain Loss: 0.493 | Train Acc: 80.59%\n",
      "\t Val. Loss: 0.543 |  Val. Acc: 80.42%\n",
      "\n",
      "Text Pre-Processing Configuration: WordPunct_WordNet\n",
      "Data Size: 1000\n",
      "Target: InfoTheory\n",
      "------------------------------------------------\n",
      "Epoch 0:\n",
      "\tTrain Loss: 0.431 | Train Acc: 94.98%\n",
      "\t Val. Loss: 0.358 |  Val. Acc: 92.00%\n",
      "------------------------------------------------\n",
      "Epoch 1:\n",
      "\tTrain Loss: 0.244 | Train Acc: 97.16%\n",
      "\t Val. Loss: 0.257 |  Val. Acc: 95.29%\n",
      "------------------------------------------------\n",
      "Epoch 2:\n",
      "\tTrain Loss: 0.172 | Train Acc: 98.39%\n",
      "\t Val. Loss: 0.207 |  Val. Acc: 96.60%\n",
      "------------------------------------------------\n",
      "Epoch 3:\n",
      "\tTrain Loss: 0.138 | Train Acc: 99.29%\n",
      "\t Val. Loss: 0.176 |  Val. Acc: 97.92%\n",
      "------------------------------------------------\n",
      "Epoch 4:\n",
      "\tTrain Loss: 0.114 | Train Acc: 99.43%\n",
      "\t Val. Loss: 0.156 |  Val. Acc: 98.57%\n",
      "\n",
      "Text Pre-Processing Configuration: WordPunct_WordNet\n",
      "Data Size: 54731\n",
      "Target: CompVis\n",
      "------------------------------------------------\n",
      "Epoch 0:\n",
      "\tTrain Loss: 0.200 | Train Acc: 95.50%\n",
      "\t Val. Loss: 0.419 |  Val. Acc: 94.24%\n",
      "------------------------------------------------\n",
      "Epoch 1:\n",
      "\tTrain Loss: 0.174 | Train Acc: 95.97%\n",
      "\t Val. Loss: 0.355 |  Val. Acc: 95.05%\n",
      "------------------------------------------------\n",
      "Epoch 2:\n",
      "\tTrain Loss: 0.173 | Train Acc: 95.98%\n",
      "\t Val. Loss: 0.311 |  Val. Acc: 95.11%\n",
      "------------------------------------------------\n",
      "Epoch 3:\n",
      "\tTrain Loss: 0.172 | Train Acc: 95.98%\n",
      "\t Val. Loss: 0.281 |  Val. Acc: 95.15%\n",
      "------------------------------------------------\n",
      "Epoch 4:\n",
      "\tTrain Loss: 0.171 | Train Acc: 95.99%\n",
      "\t Val. Loss: 0.262 |  Val. Acc: 95.20%\n",
      "\n",
      "Text Pre-Processing Configuration: WordPunct_WordNet\n",
      "Data Size: 1000\n",
      "Target: CompVis\n",
      "------------------------------------------------\n",
      "Epoch 0:\n",
      "\tTrain Loss: 0.478 | Train Acc: 88.64%\n",
      "\t Val. Loss: 0.356 |  Val. Acc: 95.94%\n",
      "------------------------------------------------\n",
      "Epoch 1:\n",
      "\tTrain Loss: 0.226 | Train Acc: 99.43%\n",
      "\t Val. Loss: 0.246 |  Val. Acc: 96.93%\n",
      "------------------------------------------------\n",
      "Epoch 2:\n",
      "\tTrain Loss: 0.150 | Train Acc: 99.38%\n",
      "\t Val. Loss: 0.198 |  Val. Acc: 97.92%\n",
      "------------------------------------------------\n",
      "Epoch 3:\n",
      "\tTrain Loss: 0.117 | Train Acc: 99.57%\n",
      "\t Val. Loss: 0.170 |  Val. Acc: 98.25%\n",
      "------------------------------------------------\n",
      "Epoch 4:\n",
      "\tTrain Loss: 0.094 | Train Acc: 99.72%\n",
      "\t Val. Loss: 0.152 |  Val. Acc: 99.01%\n",
      "\n",
      "Text Pre-Processing Configuration: WordPunct_WordNet\n",
      "Data Size: 54731\n",
      "Target: Math\n",
      "------------------------------------------------\n",
      "Epoch 0:\n",
      "\tTrain Loss: 0.622 | Train Acc: 68.14%\n",
      "\t Val. Loss: 0.674 |  Val. Acc: 56.13%\n",
      "------------------------------------------------\n",
      "Epoch 1:\n",
      "\tTrain Loss: 0.617 | Train Acc: 69.18%\n",
      "\t Val. Loss: 0.660 |  Val. Acc: 63.21%\n",
      "------------------------------------------------\n",
      "Epoch 2:\n",
      "\tTrain Loss: 0.617 | Train Acc: 69.29%\n",
      "\t Val. Loss: 0.650 |  Val. Acc: 67.45%\n",
      "------------------------------------------------\n",
      "Epoch 3:\n",
      "\tTrain Loss: 0.617 | Train Acc: 69.33%\n",
      "\t Val. Loss: 0.644 |  Val. Acc: 68.68%\n",
      "------------------------------------------------\n",
      "Epoch 4:\n",
      "\tTrain Loss: 0.617 | Train Acc: 69.33%\n",
      "\t Val. Loss: 0.638 |  Val. Acc: 69.29%\n",
      "\n",
      "Text Pre-Processing Configuration: WordPunct_WordNet\n",
      "Data Size: 1000\n",
      "Target: Math\n",
      "------------------------------------------------\n",
      "Epoch 0:\n",
      "\tTrain Loss: 0.470 | Train Acc: 90.06%\n",
      "\t Val. Loss: 0.338 |  Val. Acc: 97.70%\n",
      "------------------------------------------------\n",
      "Epoch 1:\n",
      "\tTrain Loss: 0.249 | Train Acc: 97.59%\n",
      "\t Val. Loss: 0.250 |  Val. Acc: 97.70%\n",
      "------------------------------------------------\n",
      "Epoch 2:\n",
      "\tTrain Loss: 0.195 | Train Acc: 97.54%\n",
      "\t Val. Loss: 0.216 |  Val. Acc: 97.70%\n",
      "------------------------------------------------\n",
      "Epoch 3:\n",
      "\tTrain Loss: 0.171 | Train Acc: 97.35%\n",
      "\t Val. Loss: 0.197 |  Val. Acc: 97.70%\n",
      "------------------------------------------------\n",
      "Epoch 4:\n",
      "\tTrain Loss: 0.156 | Train Acc: 97.25%\n",
      "\t Val. Loss: 0.185 |  Val. Acc: 97.70%\n"
     ]
    }
   ],
   "source": [
    "n = 0\n",
    "# index of each model for metrics data frame and precision recall cuve \n",
    "epochs = 5\n",
    "# each model runs for 5 epochs \n",
    "\n",
    "for eachTokenizer in tokenizers: \n",
    "# for each text pre-processing configuration \n",
    "    \n",
    "    tokenizer = eachTokenizer.__name__\n",
    "    # name of each tokenizer extracted \n",
    "    \n",
    "    TEXT = data.Field(sequential = True,\\\n",
    "                     tokenize = eachTokenizer,\\\n",
    "                     lower = True)\n",
    "    # data.field for text is established using text pre-processing configuration \n",
    "    dataFields = {'Abstract': ('Abstract', TEXT)}\n",
    "    # the column named 'Abstract' will be configured with TEXT data.Field \n",
    "    \n",
    "    for targetName in targets:\n",
    "    # for each target\n",
    "        \n",
    "        dataFields[targetName] = ('label', LABEL)\n",
    "        # each target will be configured with LABEL data.Field, and it'll be renamed as 'label' \n",
    "        \n",
    "        train1, train2, test = data.TabularDataset.splits(path = './', \\\n",
    "                                   train = 'axcs_train.csv',\\\n",
    "                                         format = 'csv', \\\n",
    "                                         fields = dataFields,\\\n",
    "                                         validation = 'axcs_train_1000.csv',\\\n",
    "                                        test = 'axcs_test.csv',\\\n",
    "                                        skip_header = False)\n",
    "        # loading in each train data set and the test set with respective field schema \n",
    "          \n",
    "        trainSets = [train1, train2]\n",
    "        # put train set into a list for looping \n",
    "\n",
    "        del dataFields[targetName]\n",
    "        # for the next topic at next loop, the name of the target in the current loop is deleted\n",
    "        \n",
    "        for eachTrainSet in trainSets: \n",
    "        # loop through each train set \n",
    "            \n",
    "            if len(eachTrainSet) == 1000: \n",
    "                maxVocabSize = 3000 \n",
    "                batchSize = 16\n",
    "                embeddingDimension = 100\n",
    "                size = 'Partial'\n",
    "\n",
    "            else: \n",
    "                maxVocabSize = 5500\n",
    "                batchSize = 64\n",
    "                embeddingDimension = 200\n",
    "                size = 'Whole'\n",
    "            # different number of observations in each training set have differnt RNN configuration\n",
    "\n",
    "            train, valid = eachTrainSet.split(split_ratio = 0.7)\n",
    "            # split the training and validation data set \n",
    "            # 0.7 for training, 0.3 for validation \n",
    "                \n",
    "            TEXT.build_vocab(eachTrainSet, max_size = maxVocabSize)\n",
    "            # build vocab with each train set with respective maxVocabSize \n",
    "            \n",
    "            device = torch.device('cuda' if torch.cuda.is_available() else 'cpu')\n",
    "            \n",
    "            trainIt, validIt, testIt = data.BucketIterator.splits((train, valid, test),\\\n",
    "                                            batch_size = batchSize,\\\n",
    "                                            device = device,\\\n",
    "                                            sort_key = lambda x: len(x.Abstract),\\\n",
    "                                            sort_within_batch = False)\n",
    "            # create iterator of train, validation, and test set with respective batch size \n",
    "            # all iterators are saved into cuda \n",
    "\n",
    "            inputDimension = len(TEXT.vocab)\n",
    "            hiddenDimension = 256 \n",
    "            outputDimension = 1\n",
    "            # the first dimension of RNN is the vocab size \n",
    "            # hidden dimension is all set at 256 \n",
    "            # output dimension is a binary digit \n",
    "            \n",
    "            model = Rnn(inputDimension, embeddingDimension, hiddenDimension, outputDimension).to(device)\n",
    "            # configure model with respective hyperparameters \n",
    "            optimizer = optim.SGD(model.parameters(), lr = 1e-3)\n",
    "            # stochastic gradient decent as the optimiser for backward propagation\n",
    "            criterion = nn.BCEWithLogitsLoss().to(device)\n",
    "            # binary cross entropy for calculating loss \n",
    "            # save the output to cuda \n",
    "\n",
    "            print(f'\\nText Pre-Processing Configuration: {eachTokenizer.__name__}')\n",
    "            print(f'Data Size: {len(eachTrainSet)}')\n",
    "            print(f'Target: {targetName}')\n",
    "\n",
    "            bestValidLoss = float('inf')\n",
    "            # unbounded upper value for validation loss \n",
    "            bestModel = None\n",
    "\n",
    "            for epoch in range(epochs): \n",
    "            # for each epoch \n",
    "            \n",
    "                trainLoss, trainAccuracy = training(model, trainIt, optimizer, criterion)\n",
    "                # train the model and calculate training loss and training accuracy of each epoch\n",
    "                validLoss, validAccuracy = evaluate(model, validIt, criterion)\n",
    "                # validate the model and calculate validation loss and accuracy of each epoch \n",
    "                # optimiser is omitted since backward propagation for optimisation is not needed for validation \n",
    "\n",
    "                if validLoss < bestValidLoss: \n",
    "                    bestValidLoss = validLoss \n",
    "                    bestModel = model\n",
    "                    # the best model has the least validation loss \n",
    "\n",
    "                print('------------------------------------------------')\n",
    "                print(f'Epoch {epoch}:')\n",
    "                print(f'\\tTrain Loss: {trainLoss:.3f} | Train Acc: {trainAccuracy*100:.2f}%')\n",
    "                print(f'\\t Val. Loss: {validLoss:.3f} |  Val. Acc: {validAccuracy*100:.2f}%')\n",
    "          \n",
    "            \n",
    "            truth, pred = predict(bestModel, testIt, criterion)\n",
    "            # using the best model and predict the label using test iterator \n",
    "            # truth and pred are numpy arrays returned by predict function\n",
    "            metrics_rnn.iloc[n,:] = [f'{size} - {tokenizer}',\\\n",
    "                                targetName,\\\n",
    "                                'RNN',\\\n",
    "                                accuracy_score(truth,pred),\\\n",
    "                                precision_score(truth,pred,average='macro'),\\\n",
    "                                recall_score(truth,pred,average='macro'),\\\n",
    "                                f1_score(truth,pred,average='macro')]\n",
    "            # calculate the evaluation metrics for each model and save them to data frame\n",
    "\n",
    "            precisionRecall_rnn[n] = [precision_recall_curve(truth, pred)]\n",
    "            # precision and recall curve object is saved to the dictionary\n",
    "            # the key is the data frame index \n",
    "\n",
    "            n += 1\n",
    "            # increment the model index by 1\n"
   ]
  },
  {
   "cell_type": "markdown",
   "metadata": {
    "id": "N4_2O6forzDr"
   },
   "source": [
    "## 1.4 Results from Each Model and Graphical Presentation<a class=\"anchor\" id=\"sec_1.4\"></a>\n",
    "* [1.4.1 Sample Size & Model Performance](#sec_1.4.1)\n",
    "* [1.4.2 Text Pre-Processing & Model Performance](#sec_1.4.2)\n",
    "* [1.4.3. Algorithm & Model Performance](#sec_1.4.3)\n",
    "* [1.4.4. Precision-Recall Curves](#sec_1.4.4)"
   ]
  },
  {
   "cell_type": "code",
   "execution_count": 34,
   "metadata": {
    "id": "UGwSMNFWLK58"
   },
   "outputs": [],
   "source": [
    "import matplotlib \n",
    "import matplotlib.pyplot as plt"
   ]
  },
  {
   "cell_type": "code",
   "execution_count": 35,
   "metadata": {
    "id": "LbRgqL55ixIy"
   },
   "outputs": [],
   "source": [
    "metrics = pd.concat([metrics_lr, metrics_rnn])"
   ]
  },
  {
   "cell_type": "code",
   "execution_count": 36,
   "metadata": {
    "id": "aYMFBydYroZc"
   },
   "outputs": [],
   "source": [
    "metrics = metrics.merge(testClass.loc[:,['Target', 'Null Accuracy']],\\\n",
    "              on = 'Target')\n",
    "metrics = metrics[['Config', 'Target', 'Model', 'Null Accuracy',\\\n",
    "                   'Accuracy', 'Precision', 'Recall', 'F-1']]\\\n",
    "                   .sort_values(by = ['Model','Config', 'Target'])\\\n",
    "                   .reset_index(drop = True)"
   ]
  },
  {
   "cell_type": "code",
   "execution_count": 37,
   "metadata": {
    "colab": {
     "base_uri": "https://localhost:8080/",
     "height": 793
    },
    "id": "fgqYp8c9GaR7",
    "outputId": "c8f8b2ee-d34e-4954-c5eb-d637b10ecb24"
   },
   "outputs": [
    {
     "data": {
      "text/html": [
       "<div>\n",
       "<style scoped>\n",
       "    .dataframe tbody tr th:only-of-type {\n",
       "        vertical-align: middle;\n",
       "    }\n",
       "\n",
       "    .dataframe tbody tr th {\n",
       "        vertical-align: top;\n",
       "    }\n",
       "\n",
       "    .dataframe thead th {\n",
       "        text-align: right;\n",
       "    }\n",
       "</style>\n",
       "<table border=\"1\" class=\"dataframe\">\n",
       "  <thead>\n",
       "    <tr style=\"text-align: right;\">\n",
       "      <th></th>\n",
       "      <th>Config</th>\n",
       "      <th>Target</th>\n",
       "      <th>Model</th>\n",
       "      <th>Null Accuracy</th>\n",
       "      <th>Accuracy</th>\n",
       "      <th>Precision</th>\n",
       "      <th>Recall</th>\n",
       "      <th>F-1</th>\n",
       "    </tr>\n",
       "  </thead>\n",
       "  <tbody>\n",
       "    <tr>\n",
       "      <th>0</th>\n",
       "      <td>Partial - Regex_SNB</td>\n",
       "      <td>CompVis</td>\n",
       "      <td>LogisticRegression</td>\n",
       "      <td>0.890639</td>\n",
       "      <td>0.890639</td>\n",
       "      <td>0.44532</td>\n",
       "      <td>0.5</td>\n",
       "      <td>0.471078</td>\n",
       "    </tr>\n",
       "    <tr>\n",
       "      <th>1</th>\n",
       "      <td>Partial - Regex_SNB</td>\n",
       "      <td>InfoTheory</td>\n",
       "      <td>LogisticRegression</td>\n",
       "      <td>0.816241</td>\n",
       "      <td>0.816241</td>\n",
       "      <td>0.408121</td>\n",
       "      <td>0.5</td>\n",
       "      <td>0.449412</td>\n",
       "    </tr>\n",
       "    <tr>\n",
       "      <th>2</th>\n",
       "      <td>Partial - Regex_SNB</td>\n",
       "      <td>Math</td>\n",
       "      <td>LogisticRegression</td>\n",
       "      <td>0.698648</td>\n",
       "      <td>0.698648</td>\n",
       "      <td>0.349324</td>\n",
       "      <td>0.5</td>\n",
       "      <td>0.411297</td>\n",
       "    </tr>\n",
       "    <tr>\n",
       "      <th>3</th>\n",
       "      <td>Partial - WordPunct_WordNet</td>\n",
       "      <td>CompVis</td>\n",
       "      <td>LogisticRegression</td>\n",
       "      <td>0.890639</td>\n",
       "      <td>0.890639</td>\n",
       "      <td>0.44532</td>\n",
       "      <td>0.5</td>\n",
       "      <td>0.471078</td>\n",
       "    </tr>\n",
       "    <tr>\n",
       "      <th>4</th>\n",
       "      <td>Partial - WordPunct_WordNet</td>\n",
       "      <td>InfoTheory</td>\n",
       "      <td>LogisticRegression</td>\n",
       "      <td>0.816241</td>\n",
       "      <td>0.816241</td>\n",
       "      <td>0.408121</td>\n",
       "      <td>0.5</td>\n",
       "      <td>0.449412</td>\n",
       "    </tr>\n",
       "    <tr>\n",
       "      <th>5</th>\n",
       "      <td>Partial - WordPunct_WordNet</td>\n",
       "      <td>Math</td>\n",
       "      <td>LogisticRegression</td>\n",
       "      <td>0.698648</td>\n",
       "      <td>0.698648</td>\n",
       "      <td>0.349324</td>\n",
       "      <td>0.5</td>\n",
       "      <td>0.411297</td>\n",
       "    </tr>\n",
       "    <tr>\n",
       "      <th>6</th>\n",
       "      <td>Whole - Regex_SNB</td>\n",
       "      <td>CompVis</td>\n",
       "      <td>LogisticRegression</td>\n",
       "      <td>0.890639</td>\n",
       "      <td>0.959701</td>\n",
       "      <td>0.95539</td>\n",
       "      <td>0.831039</td>\n",
       "      <td>0.880588</td>\n",
       "    </tr>\n",
       "    <tr>\n",
       "      <th>7</th>\n",
       "      <td>Whole - Regex_SNB</td>\n",
       "      <td>InfoTheory</td>\n",
       "      <td>LogisticRegression</td>\n",
       "      <td>0.816241</td>\n",
       "      <td>0.947657</td>\n",
       "      <td>0.941885</td>\n",
       "      <td>0.878792</td>\n",
       "      <td>0.906225</td>\n",
       "    </tr>\n",
       "    <tr>\n",
       "      <th>8</th>\n",
       "      <td>Whole - Regex_SNB</td>\n",
       "      <td>Math</td>\n",
       "      <td>LogisticRegression</td>\n",
       "      <td>0.698648</td>\n",
       "      <td>0.871278</td>\n",
       "      <td>0.85994</td>\n",
       "      <td>0.825934</td>\n",
       "      <td>0.839976</td>\n",
       "    </tr>\n",
       "    <tr>\n",
       "      <th>9</th>\n",
       "      <td>Whole - WordPunct_WordNet</td>\n",
       "      <td>CompVis</td>\n",
       "      <td>LogisticRegression</td>\n",
       "      <td>0.890639</td>\n",
       "      <td>0.955991</td>\n",
       "      <td>0.953942</td>\n",
       "      <td>0.812855</td>\n",
       "      <td>0.866813</td>\n",
       "    </tr>\n",
       "    <tr>\n",
       "      <th>10</th>\n",
       "      <td>Whole - WordPunct_WordNet</td>\n",
       "      <td>InfoTheory</td>\n",
       "      <td>LogisticRegression</td>\n",
       "      <td>0.816241</td>\n",
       "      <td>0.947962</td>\n",
       "      <td>0.943434</td>\n",
       "      <td>0.878443</td>\n",
       "      <td>0.90659</td>\n",
       "    </tr>\n",
       "    <tr>\n",
       "      <th>11</th>\n",
       "      <td>Whole - WordPunct_WordNet</td>\n",
       "      <td>Math</td>\n",
       "      <td>LogisticRegression</td>\n",
       "      <td>0.698648</td>\n",
       "      <td>0.875851</td>\n",
       "      <td>0.866748</td>\n",
       "      <td>0.830454</td>\n",
       "      <td>0.845333</td>\n",
       "    </tr>\n",
       "    <tr>\n",
       "      <th>12</th>\n",
       "      <td>Partial - Regex_SNB</td>\n",
       "      <td>CompVis</td>\n",
       "      <td>RNN</td>\n",
       "      <td>0.890639</td>\n",
       "      <td>0.493597</td>\n",
       "      <td>0.4932</td>\n",
       "      <td>0.482546</td>\n",
       "      <td>0.402124</td>\n",
       "    </tr>\n",
       "    <tr>\n",
       "      <th>13</th>\n",
       "      <td>Partial - Regex_SNB</td>\n",
       "      <td>InfoTheory</td>\n",
       "      <td>RNN</td>\n",
       "      <td>0.816241</td>\n",
       "      <td>0.672324</td>\n",
       "      <td>0.497993</td>\n",
       "      <td>0.497665</td>\n",
       "      <td>0.49652</td>\n",
       "    </tr>\n",
       "    <tr>\n",
       "      <th>14</th>\n",
       "      <td>Partial - Regex_SNB</td>\n",
       "      <td>Math</td>\n",
       "      <td>RNN</td>\n",
       "      <td>0.698648</td>\n",
       "      <td>0.460514</td>\n",
       "      <td>0.499901</td>\n",
       "      <td>0.499887</td>\n",
       "      <td>0.45512</td>\n",
       "    </tr>\n",
       "    <tr>\n",
       "      <th>15</th>\n",
       "      <td>Partial - WordPunct_WordNet</td>\n",
       "      <td>CompVis</td>\n",
       "      <td>RNN</td>\n",
       "      <td>0.890639</td>\n",
       "      <td>0.876766</td>\n",
       "      <td>0.519343</td>\n",
       "      <td>0.503829</td>\n",
       "      <td>0.489517</td>\n",
       "    </tr>\n",
       "    <tr>\n",
       "      <th>16</th>\n",
       "      <td>Partial - WordPunct_WordNet</td>\n",
       "      <td>InfoTheory</td>\n",
       "      <td>RNN</td>\n",
       "      <td>0.816241</td>\n",
       "      <td>0.802825</td>\n",
       "      <td>0.489545</td>\n",
       "      <td>0.498639</td>\n",
       "      <td>0.461085</td>\n",
       "    </tr>\n",
       "    <tr>\n",
       "      <th>17</th>\n",
       "      <td>Partial - WordPunct_WordNet</td>\n",
       "      <td>Math</td>\n",
       "      <td>RNN</td>\n",
       "      <td>0.698648</td>\n",
       "      <td>0.696819</td>\n",
       "      <td>0.438435</td>\n",
       "      <td>0.49917</td>\n",
       "      <td>0.412279</td>\n",
       "    </tr>\n",
       "    <tr>\n",
       "      <th>18</th>\n",
       "      <td>Whole - Regex_SNB</td>\n",
       "      <td>CompVis</td>\n",
       "      <td>RNN</td>\n",
       "      <td>0.890639</td>\n",
       "      <td>0.744944</td>\n",
       "      <td>0.506872</td>\n",
       "      <td>0.510942</td>\n",
       "      <td>0.501667</td>\n",
       "    </tr>\n",
       "    <tr>\n",
       "      <th>19</th>\n",
       "      <td>Whole - Regex_SNB</td>\n",
       "      <td>InfoTheory</td>\n",
       "      <td>RNN</td>\n",
       "      <td>0.816241</td>\n",
       "      <td>0.62918</td>\n",
       "      <td>0.506492</td>\n",
       "      <td>0.509165</td>\n",
       "      <td>0.497582</td>\n",
       "    </tr>\n",
       "    <tr>\n",
       "      <th>20</th>\n",
       "      <td>Whole - Regex_SNB</td>\n",
       "      <td>Math</td>\n",
       "      <td>RNN</td>\n",
       "      <td>0.698648</td>\n",
       "      <td>0.588271</td>\n",
       "      <td>0.498965</td>\n",
       "      <td>0.499018</td>\n",
       "      <td>0.498594</td>\n",
       "    </tr>\n",
       "    <tr>\n",
       "      <th>21</th>\n",
       "      <td>Whole - WordPunct_WordNet</td>\n",
       "      <td>CompVis</td>\n",
       "      <td>RNN</td>\n",
       "      <td>0.890639</td>\n",
       "      <td>0.886726</td>\n",
       "      <td>0.528093</td>\n",
       "      <td>0.501676</td>\n",
       "      <td>0.478332</td>\n",
       "    </tr>\n",
       "    <tr>\n",
       "      <th>22</th>\n",
       "      <td>Whole - WordPunct_WordNet</td>\n",
       "      <td>InfoTheory</td>\n",
       "      <td>RNN</td>\n",
       "      <td>0.816241</td>\n",
       "      <td>0.810448</td>\n",
       "      <td>0.465292</td>\n",
       "      <td>0.498273</td>\n",
       "      <td>0.452117</td>\n",
       "    </tr>\n",
       "    <tr>\n",
       "      <th>23</th>\n",
       "      <td>Whole - WordPunct_WordNet</td>\n",
       "      <td>Math</td>\n",
       "      <td>RNN</td>\n",
       "      <td>0.698648</td>\n",
       "      <td>0.694786</td>\n",
       "      <td>0.504369</td>\n",
       "      <td>0.500209</td>\n",
       "      <td>0.419733</td>\n",
       "    </tr>\n",
       "  </tbody>\n",
       "</table>\n",
       "</div>"
      ],
      "text/plain": [
       "                         Config      Target  ...    Recall       F-1\n",
       "0           Partial - Regex_SNB     CompVis  ...       0.5  0.471078\n",
       "1           Partial - Regex_SNB  InfoTheory  ...       0.5  0.449412\n",
       "2           Partial - Regex_SNB        Math  ...       0.5  0.411297\n",
       "3   Partial - WordPunct_WordNet     CompVis  ...       0.5  0.471078\n",
       "4   Partial - WordPunct_WordNet  InfoTheory  ...       0.5  0.449412\n",
       "5   Partial - WordPunct_WordNet        Math  ...       0.5  0.411297\n",
       "6             Whole - Regex_SNB     CompVis  ...  0.831039  0.880588\n",
       "7             Whole - Regex_SNB  InfoTheory  ...  0.878792  0.906225\n",
       "8             Whole - Regex_SNB        Math  ...  0.825934  0.839976\n",
       "9     Whole - WordPunct_WordNet     CompVis  ...  0.812855  0.866813\n",
       "10    Whole - WordPunct_WordNet  InfoTheory  ...  0.878443   0.90659\n",
       "11    Whole - WordPunct_WordNet        Math  ...  0.830454  0.845333\n",
       "12          Partial - Regex_SNB     CompVis  ...  0.482546  0.402124\n",
       "13          Partial - Regex_SNB  InfoTheory  ...  0.497665   0.49652\n",
       "14          Partial - Regex_SNB        Math  ...  0.499887   0.45512\n",
       "15  Partial - WordPunct_WordNet     CompVis  ...  0.503829  0.489517\n",
       "16  Partial - WordPunct_WordNet  InfoTheory  ...  0.498639  0.461085\n",
       "17  Partial - WordPunct_WordNet        Math  ...   0.49917  0.412279\n",
       "18            Whole - Regex_SNB     CompVis  ...  0.510942  0.501667\n",
       "19            Whole - Regex_SNB  InfoTheory  ...  0.509165  0.497582\n",
       "20            Whole - Regex_SNB        Math  ...  0.499018  0.498594\n",
       "21    Whole - WordPunct_WordNet     CompVis  ...  0.501676  0.478332\n",
       "22    Whole - WordPunct_WordNet  InfoTheory  ...  0.498273  0.452117\n",
       "23    Whole - WordPunct_WordNet        Math  ...  0.500209  0.419733\n",
       "\n",
       "[24 rows x 8 columns]"
      ]
     },
     "execution_count": 37,
     "metadata": {
      "tags": []
     },
     "output_type": "execute_result"
    }
   ],
   "source": [
    "metrics"
   ]
  },
  {
   "cell_type": "markdown",
   "metadata": {
    "id": "uUub79xNKxmk"
   },
   "source": [
    "### 1.4.1 Sample Size & Model Performance<a class=\"anchor\" id=\"sec_1.4.1\"></a>"
   ]
  },
  {
   "cell_type": "code",
   "execution_count": 38,
   "metadata": {
    "id": "QqwcgW2SSCYD"
   },
   "outputs": [],
   "source": [
    "metrics_ = metrics.copy()"
   ]
  },
  {
   "cell_type": "code",
   "execution_count": 39,
   "metadata": {
    "id": "NSzWEkEJKwrF"
   },
   "outputs": [],
   "source": [
    "metrics_.sort_values(by = ['Config', 'Model', 'Target'], inplace = True)\n",
    "# sort values based on the configuration, which contain information on sample size \n",
    "metrics_.reset_index(drop = True, inplace = True)\n",
    "metrics__lr = metrics_.iloc[:12, :]\n",
    "metrics__rnn = metrics_.iloc[12:, :]\n",
    "# segregate logistic regression and rnn models "
   ]
  },
  {
   "cell_type": "code",
   "execution_count": 40,
   "metadata": {
    "id": "W6mq7X6ZLGAH"
   },
   "outputs": [],
   "source": [
    "label_1 = (metrics__lr.Config+'_'+metrics__lr.Model+'_'+metrics__lr.Target).tolist()\n",
    "label_1 = [i.split(' - ')[1] for i in label_1]\n",
    "\n",
    "label_2 = (metrics__rnn.Config+'_'+metrics__rnn.Model+'_'+metrics__rnn.Target).tolist()\n",
    "label_2 = [i.split(' - ')[1] for i in label_2]\n",
    "# labels on the y-axis for group bar plot"
   ]
  },
  {
   "cell_type": "code",
   "execution_count": 41,
   "metadata": {
    "colab": {
     "base_uri": "https://localhost:8080/",
     "height": 545
    },
    "id": "vcePwulWLIGJ",
    "outputId": "6e58ae29-d3f6-483a-e325-b394ca001159"
   },
   "outputs": [
    {
     "data": {
      "image/png": "[encoded data removed]",
      "text/plain": [
       "<Figure size 432x288 with 1 Axes>"
      ]
     },
     "metadata": {
      "needs_background": "light",
      "tags": []
     },
     "output_type": "display_data"
    },
    {
     "data": {
      "image/png": "[encoded data removed]",
      "text/plain": [
       "<Figure size 432x288 with 1 Axes>"
      ]
     },
     "metadata": {
      "needs_background": "light",
      "tags": []
     },
     "output_type": "display_data"
    }
   ],
   "source": [
    "ax = metrics__lr.plot.barh()\n",
    "ax.legend(bbox_to_anchor=(1.3, 0.7))\n",
    "ticks = label_1\n",
    "ax.set_title('Sample Size = 1000')\n",
    "ax.set_yticklabels(ticks);\n",
    "\n",
    "ax2 = metrics__rnn.plot.barh()\n",
    "ax2.legend(bbox_to_anchor=(1.3, 0.7))\n",
    "ticks = label_2\n",
    "ax2.set_title('Sample Size = 54,000+')\n",
    "ax2.set_yticklabels(ticks);"
   ]
  },
  {
   "cell_type": "markdown",
   "metadata": {
    "id": "i2hia_5JLdpC"
   },
   "source": [
    "### 1.4.2. Text Pre-Processing & Model Performance<a class=\"anchor\" id=\"sec_1.4.2\"></a>"
   ]
  },
  {
   "cell_type": "code",
   "execution_count": 42,
   "metadata": {
    "id": "GpBQKUMoLiKR"
   },
   "outputs": [],
   "source": [
    "metrics_ = metrics.copy()"
   ]
  },
  {
   "cell_type": "code",
   "execution_count": 43,
   "metadata": {
    "id": "2Uwz3BmBLiNk"
   },
   "outputs": [],
   "source": [
    "metrics_['TokenizerStemmer'] = metrics_['Config'].apply(lambda x: x.split(' - ')[1])\n",
    "metrics_['SampleSize'] = metrics_['Config'].apply(lambda x: x.split(' - ')[0])\n",
    "metrics_['Config'] = metrics_.Model\\\n",
    "+ '_' + metrics_.Target + '_' + metrics_.SampleSize\n",
    "# rename the configuration for comparing models based on text pre-processing \n",
    "metrics_ = metrics_[['Config','TokenizerStemmer', 'SampleSize', 'Target', 'Model',\\\n",
    "                  'Accuracy', 'Precision', 'Recall', 'F-1']]\\\n",
    ".sort_values(by = ['TokenizerStemmer', 'Model','SampleSize', 'Target'])"
   ]
  },
  {
   "cell_type": "code",
   "execution_count": 44,
   "metadata": {
    "id": "N5oXaUBHLiQz"
   },
   "outputs": [],
   "source": [
    "temp_1 = metrics_.iloc[:12, :]\n",
    "temp_2 = metrics_.iloc[12:, :]\n",
    "label_1 = (temp_1.Config).tolist()\n",
    "label_2 = (temp_2.Config).tolist()\n",
    "# labels for y-axis "
   ]
  },
  {
   "cell_type": "code",
   "execution_count": 45,
   "metadata": {
    "colab": {
     "base_uri": "https://localhost:8080/",
     "height": 545
    },
    "id": "Ss949-CxLiSV",
    "outputId": "4630e090-6023-4201-e3d3-b777e85ec611"
   },
   "outputs": [
    {
     "data": {
      "image/png": "[encoded data removed]",
      "text/plain": [
       "<Figure size 432x288 with 1 Axes>"
      ]
     },
     "metadata": {
      "needs_background": "light",
      "tags": []
     },
     "output_type": "display_data"
    },
    {
     "data": {
      "image/png": "[encoded data removed]",
      "text/plain": [
       "<Figure size 432x288 with 1 Axes>"
      ]
     },
     "metadata": {
      "needs_background": "light",
      "tags": []
     },
     "output_type": "display_data"
    }
   ],
   "source": [
    "ax = temp_1.plot.barh()\n",
    "ax.legend(bbox_to_anchor=(1.3, 0.7))\n",
    "ticks = label_1\n",
    "ax.set_title('Regex_SNB')\n",
    "ax.set_yticklabels(ticks);\n",
    "\n",
    "ax2 = temp_2.plot.barh()\n",
    "ax2.legend(bbox_to_anchor=(1.3, 0.7))\n",
    "ticks = label_2\n",
    "ax2.set_title('WordPunct_WordNet')\n",
    "ax2.set_yticklabels(ticks);"
   ]
  },
  {
   "cell_type": "markdown",
   "metadata": {
    "id": "PUKiP2VmMGb1"
   },
   "source": [
    "### 1.4.3. Algorithm & Model Performance<a class=\"anchor\" id=\"sec_1.4.3\"></a>"
   ]
  },
  {
   "cell_type": "code",
   "execution_count": 46,
   "metadata": {
    "id": "emNMDMazMDmo"
   },
   "outputs": [],
   "source": [
    "metrics_ = metrics.copy()\n",
    "metrics_['TokenizerStemmer'] = metrics_['Config'].apply(lambda x: x.split(' - ')[1])\n",
    "metrics_['SampleSize'] = metrics_['Config'].apply(lambda x: x.split(' - ')[0])\n",
    "metrics_['Config'] = metrics_.Model\\\n",
    "+ '_' + metrics_.Target + '_' + metrics_.SampleSize\n",
    "# rename the configurations to compare models based on model algorithm\n",
    "metrics_ = metrics_[['Config','TokenizerStemmer', 'SampleSize', 'Target', 'Model',\\\n",
    "                  'Accuracy', 'Precision', 'Recall', 'F-1']]\\\n",
    ".sort_values(by = ['Model', 'SampleSize','TokenizerStemmer', 'Target'])"
   ]
  },
  {
   "cell_type": "code",
   "execution_count": 47,
   "metadata": {
    "id": "6YMTfdCQMDvm"
   },
   "outputs": [],
   "source": [
    "temp_1 = metrics_.iloc[:12, :]\n",
    "temp_2 = metrics_.iloc[12:, :]\n",
    "\n",
    "label_1 = (temp_1.Config).tolist()\n",
    "label_2 = (temp_2.Config).tolist()"
   ]
  },
  {
   "cell_type": "code",
   "execution_count": 48,
   "metadata": {
    "colab": {
     "base_uri": "https://localhost:8080/",
     "height": 545
    },
    "id": "i_yq7a1UMVFI",
    "outputId": "dec4abf7-7f3f-47ba-beda-5eeab6b3a84f"
   },
   "outputs": [
    {
     "data": {
      "image/png": "[encoded data removed]",
      "text/plain": [
       "<Figure size 432x288 with 1 Axes>"
      ]
     },
     "metadata": {
      "needs_background": "light",
      "tags": []
     },
     "output_type": "display_data"
    },
    {
     "data": {
      "image/png": "[encoded data removed]",
      "text/plain": [
       "<Figure size 432x288 with 1 Axes>"
      ]
     },
     "metadata": {
      "needs_background": "light",
      "tags": []
     },
     "output_type": "display_data"
    }
   ],
   "source": [
    "ax = temp_1.plot.barh()\n",
    "ax.legend(bbox_to_anchor=(1.3, 0.7))\n",
    "ticks = label_1\n",
    "ax.set_title('Logistic Regression')\n",
    "ax.set_yticklabels(ticks);\n",
    "\n",
    "ax2 = temp_2.plot.barh()\n",
    "ax2.legend(bbox_to_anchor=(1.3, 0.7))\n",
    "ticks = label_2\n",
    "ax2.set_title('RNN')\n",
    "ax2.set_yticklabels(ticks);"
   ]
  },
  {
   "cell_type": "markdown",
   "metadata": {
    "id": "iiV9DIa8MlKQ"
   },
   "source": [
    "### 1.4.4. Precision-Recall Curves<a class=\"anchor\" id=\"sec_1.4.4\"></a>"
   ]
  },
  {
   "cell_type": "code",
   "execution_count": 49,
   "metadata": {
    "id": "cp5WZKJ4Ntjg"
   },
   "outputs": [],
   "source": [
    "test = pd.read_csv('./axcs_test.csv').loc[:, targets + feature]\n",
    "testClassRatio = pd.concat([pd.DataFrame(test[i].value_counts()).T for i in targets])\n",
    "testClassRatio['Null Precision'] = testClassRatio[1]/(testClassRatio[0]+testClassRatio[1])\n",
    "testClassRatio['Null Accuracy'] = testClassRatio[0]/(testClassRatio[0]+testClassRatio[1])\n",
    "testClassRatio['Target'] = testClassRatio.index.tolist()\n",
    "# calculating null precision and null accuracy of each class \n",
    "# null accuracy is the proportion of the larger number of class in the target "
   ]
  },
  {
   "cell_type": "code",
   "execution_count": 50,
   "metadata": {
    "id": "OQf9idY6Ofjc"
   },
   "outputs": [],
   "source": [
    "metrics_lr= metrics_lr.merge(testClassRatio[['Target', 'Null Precision']], on = 'Target')"
   ]
  },
  {
   "cell_type": "code",
   "execution_count": 51,
   "metadata": {
    "colab": {
     "base_uri": "https://localhost:8080/",
     "height": 545
    },
    "id": "A6vFvBW5MpOJ",
    "outputId": "b51a71a3-4198-4d0a-9991-713097fbe1c8"
   },
   "outputs": [
    {
     "data": {
      "image/png": "[encoded data removed]",
      "text/plain": [
       "<Figure size 432x288 with 1 Axes>"
      ]
     },
     "metadata": {
      "needs_background": "light",
      "tags": []
     },
     "output_type": "display_data"
    },
    {
     "data": {
      "image/png": "[encoded data removed]",
      "text/plain": [
       "<Figure size 432x288 with 1 Axes>"
      ]
     },
     "metadata": {
      "needs_background": "light",
      "tags": []
     },
     "output_type": "display_data"
    }
   ],
   "source": [
    "for key in list(precisionRecall_lr.keys())[:12]: \n",
    "    \n",
    "    config = metrics_lr.loc[key, 'Config']\n",
    "    target = metrics_lr.loc[key, 'Target']\n",
    "    noSkill = metrics_lr.loc[key, 'Null Precision']\n",
    "    \n",
    "    if target == 'Math': \n",
    "        col = 'red'\n",
    "        nullCol = 'pink'\n",
    "    elif target == 'CompVis': \n",
    "        col = 'green'\n",
    "        nullCol = 'lightgreen'\n",
    "    else: \n",
    "        col = 'blue'\n",
    "        nullCol = 'lightblue' \n",
    "\n",
    "    plot1 = plt.figure(1)    \n",
    "    plt.plot(precisionRecall_lr[key][0][1], \\\n",
    "             precisionRecall_lr[key][0][0], \\\n",
    "             marker = '.',\\\n",
    "               label = f'{config}\\n{target}', \\\n",
    "             color = col)\n",
    "    \n",
    "    plt.plot([0, 1], [noSkill, noSkill], \\\n",
    "             linestyle='--', \\\n",
    "             label=f'{config}\\n{target}: No Skill',\\\n",
    "            color = nullCol)\n",
    "    plt.title('Logistic Regression Recall-Precision: Target-based')\n",
    "\n",
    "    plot2 = plt.figure(2)\n",
    "    if config.endswith('SNB'): \n",
    "      col = 'red'\n",
    "      nullCol = 'pink'\n",
    "    else: \n",
    "      col = 'blue'\n",
    "      nullCol = 'lightblue'\n",
    "    plt.plot(precisionRecall_lr[key][0][1], \\\n",
    "             precisionRecall_lr[key][0][0], \\\n",
    "             marker = '.',\\\n",
    "               label = f'{config}\\n{target}', \\\n",
    "             color = col)\n",
    "    \n",
    "    plt.plot([0, 1], [noSkill, noSkill], \\\n",
    "             linestyle='--', \\\n",
    "             label=f'{config}\\n{target}: No Skill',\\\n",
    "            color = nullCol)\n",
    "    plt.title('Logistic Regression Recall-Precision: Text-Processing-based')"
   ]
  },
  {
   "cell_type": "code",
   "execution_count": 52,
   "metadata": {
    "id": "adekai6H47Pt"
   },
   "outputs": [],
   "source": [
    "metrics_rnn= metrics_rnn.merge(testClassRatio[['Target', 'Null Precision']], on = 'Target')"
   ]
  },
  {
   "cell_type": "code",
   "execution_count": 53,
   "metadata": {
    "colab": {
     "base_uri": "https://localhost:8080/",
     "height": 545
    },
    "id": "Z285ZmFGr2gc",
    "outputId": "8352b94a-e551-49ea-d9f7-a2fd6caeab31"
   },
   "outputs": [
    {
     "data": {
      "image/png": "[encoded data removed]",
      "text/plain": [
       "<Figure size 432x288 with 1 Axes>"
      ]
     },
     "metadata": {
      "needs_background": "light",
      "tags": []
     },
     "output_type": "display_data"
    },
    {
     "data": {
      "image/png": "[encoded data removed]",
      "text/plain": [
       "<Figure size 432x288 with 1 Axes>"
      ]
     },
     "metadata": {
      "needs_background": "light",
      "tags": []
     },
     "output_type": "display_data"
    }
   ],
   "source": [
    "for key in list(precisionRecall_rnn.keys()): \n",
    "    \n",
    "    config = metrics_rnn.loc[key, 'Config']\n",
    "    target = metrics_rnn.loc[key, 'Target']\n",
    "    noSkill = metrics_rnn.loc[key, 'Null Precision']\n",
    "    \n",
    "    if target == 'Math': \n",
    "        col = 'red'\n",
    "        nullCol = 'pink'\n",
    "    elif target == 'CompVis': \n",
    "        col = 'green'\n",
    "        nullCol = 'lightgreen'\n",
    "    else: \n",
    "        col = 'blue'\n",
    "        nullCol = 'lightblue' \n",
    "\n",
    "    plot1 = plt.figure(1)       \n",
    "    plt.plot(precisionRecall_rnn[key][0][1], \\\n",
    "             precisionRecall_rnn[key][0][0], \\\n",
    "             marker = '.',\\\n",
    "               label = f'{config}\\n{target}', \\\n",
    "             color = col)\n",
    "    \n",
    "    plt.plot([0, 1], [noSkill, noSkill], \\\n",
    "             linestyle='--', \\\n",
    "             label=f'{config}\\n{target}: No Skill',\\\n",
    "            color = nullCol)\n",
    "    plt.title('Simple RNN Recall-Precision: Target-based')\n",
    "\n",
    "    plot2 = plt.figure(2)\n",
    "    if config.endswith('SNB'): \n",
    "      col = 'red'\n",
    "      nullCol = 'pink'\n",
    "    else: \n",
    "      col = 'blue'\n",
    "      nullCol = 'lightblue'\n",
    "    plt.plot(precisionRecall_rnn[key][0][1], \\\n",
    "             precisionRecall_rnn[key][0][0], \\\n",
    "             marker = '.',\\\n",
    "               label = f'{config}\\n{target}', \\\n",
    "             color = col)\n",
    "    \n",
    "    plt.plot([0, 1], [noSkill, noSkill], \\\n",
    "             linestyle='--', \\\n",
    "             label=f'{config}\\n{target}: No Skill',\\\n",
    "            color = nullCol)\n",
    "    plt.title('RNN Recall-Precision: Text-Processing-based')"
   ]
  }
 ],
 "metadata": {
  "accelerator": "GPU",
  "colab": {
   "collapsed_sections": [],
   "name": "task1_2_combined_graphs_submissionDraft.ipynb",
   "provenance": [],
   "toc_visible": true
  },
  "kernelspec": {
   "display_name": "Python 3",
   "language": "python",
   "name": "python3"
  },
  "language_info": {
   "codemirror_mode": {
    "name": "ipython",
    "version": 3
   },
   "file_extension": ".py",
   "mimetype": "text/x-python",
   "name": "python",
   "nbconvert_exporter": "python",
   "pygments_lexer": "ipython3",
   "version": "3.8.5"
  }
 },
 "nbformat": 4,
 "nbformat_minor": 1
}
